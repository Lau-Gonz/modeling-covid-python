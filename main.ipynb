{
 "cells": [
  {
   "cell_type": "markdown",
   "metadata": {},
   "source": [
    "# **Modeling Covid in Python**\n",
    "\n",
    "***\n",
    "\n",
    "- Dafne Valeria Castellanos Rosas\n",
    "- Laura Valentina Gonzalez Rodriguez"
   ]
  },
  {
   "cell_type": "markdown",
   "metadata": {},
   "source": [
    "***\n",
    "\n",
    "## **Historical Introduction**\n",
    "\n",
    "The SEI3RD model's emergence is deeply rooted in the unprecedented challenges posed by the COVID-19 pandemic. This global health crisis, driven by the novel coronavirus SARS-CoV-2, exposed vulnerabilities in our interconnected world and emphasized the critical need for advanced tools to comprehend and combat infectious diseases. In the early months of the pandemic, the virus's rapid spread led to widespread illness, overwhelmed healthcare infrastructures, and resulted in tragic loss of life. Existing models, like the SEIR model, proved valuable but were limited in capturing the full complexity of COVID-19 dynamics.\n",
    "\n",
    "The SEI3RD model, born out of necessity, signifies a significant leap forward in our collective effort to model and understand disease transmission patterns. Its development was driven by the imperative to provide a more nuanced and detailed representation of the pandemic's dynamics. This advanced model recognizes the multi-faceted nature of the disease, acknowledging distinct stages of infection and varying transmission rates essential for comprehensively modeling the spread of COVID-19.\n",
    "\n",
    "Representing a significant evolution in epidemiological modeling, the SEI3RD model builds upon the foundations laid by its predecessor, the SEIR model. As the world grappled with the challenges posed by the COVID-19 pandemic, the need for more nuanced and detailed models became apparent. The SEI3RD model emerged as a sophisticated extension, offering a heightened level of complexity to capture the intricacies of disease spread.\n",
    "\n",
    "In the early stages of the pandemic, the SEIR model served as a valuable tool for understanding the basic dynamics of infectious diseases. However, as our understanding of COVID-19 deepened, it became evident that a more elaborate model was necessary to account for the diverse stages of infection and varying transmission rates. The SEI3RD model, with its acronym representing expanded categories, allows for a more accurate depiction of the progression of individuals through different stages of infection, considering factors such as latent periods, multiple infectious states, and varying degrees of severity.\n",
    "\n",
    "The development of the SEI3RD model marks a pivotal moment in the field of dynamical systems applied to epidemiology. By incorporating a more comprehensive framework, it enables researchers and public health officials to gain deeper insights into the complex dynamics of disease transmission. As we delve into the intricacies of this advanced model, we embark on a journey to unravel the subtleties of COVID-19 spread and enhance our ability to formulate targeted strategies for disease control and mitigation."
   ]
  },
  {
   "cell_type": "markdown",
   "metadata": {},
   "source": [
    "***\n",
    "\n",
    "### **Abstraction and Fundamental Assumptions**\n",
    "\n",
    "It's crucial to acknowledge that SEIRD model is an abstraction. Due to the intricate interdependence of variables in nonlinear systems of equations, the SEIRD model has been intentionally formulated as a simplified representation of the transmission dynamics of COVID-19. Consequently, the model relies on a set of fundamental assumptions:\n",
    "\n",
    "1. The application of the SEIRD model is geared towards simulating COVID-19 within a human population, and thus, it is reasonable to presume that all variables and parameters are non-negative.\n",
    "\n",
    "2. It is posited that every individual in the population is susceptible to COVID-19.\n",
    "\n",
    "3. The assumption is made that infected and susceptible populations mix uniformly. This implies that every infectious individual, irrespective of age, geographic location, etc., has an equal likelihood of encountering any susceptible individual in the population.\n",
    "\n",
    "4. The overall population, denoted as N, remains constant over time, disregarding factors such as births, natural deaths, immigration, etc. Consequently, individuals do not join the susceptible group, and the sole means by which an individual transitions from the susceptible compartment is through exposure to the virus. This leads to a continual, monotonic decrease in the susceptible population over time as individuals get exposed to the virus.\n",
    "\n",
    "5. Regardless of age or health status, all individuals in the population are assumed to have an equal probability of contracting and succumbing to the disease.\n",
    "\n",
    "6. The model assumes the absence of treatment failure; a patient will either recover or succumb to he disease.\n",
    "\n",
    "7. The model posits that individuals who have transitioned from the Exposed-Recovered and Infected-Recovered states acquire permanent immunity to the disease."
   ]
  },
  {
   "cell_type": "markdown",
   "metadata": {},
   "source": [
    "***\n",
    "\n",
    "## **The Model**\n",
    "\n",
    "$$\n",
    "\\frac{dS}{dt} = -S (\\beta_0(t)I_0 + \\beta_1(t)I_1 + \\beta_2 I_2 + \\beta_3 I_3) \\\\\n",
    "\\frac{dE}{dt} = S (\\beta_0(t)I_0 + \\beta_1(t)I_1 + \\beta_2 I_2 + \\beta_3 I_3) - \\omega E  \\\\\n",
    "\\frac{dI_0}{dt} = \\omega E - \\delta_0 \\gamma_0 I_0 - (1 - \\delta_0)\\sigma_0 I_0  \\\\\n",
    "\\frac{dI_1}{dt} = (1 - \\delta_0)\\sigma_0 I_0 - \\delta_1 \\gamma_1 I_1 - (1 - \\delta_1)\\sigma_1 I_1  \\\\\n",
    "\\frac{dI_2}{dt} = (1 - \\delta_1)\\sigma_1 I_1 - \\delta_2 \\gamma_2 I_2 - (1 - \\delta_2)\\sigma_2 I_2  \\\\\n",
    "\\frac{dI_3}{dt} = (1 - \\delta_2)\\sigma_2 I_2 - \\delta_3 \\gamma_3 I_3 - (1 - \\delta_3)\\sigma_3 I_3  \\\\\n",
    "\\frac{dR}{dt} = \\delta_0 \\gamma_0 I_0 + \\delta_1 \\gamma_1 I_1 + \\delta_2 \\gamma_2 I_2 + \\delta_3 \\gamma_3 I_3  \\\\\n",
    "\\frac{dD}{dt} = (1 - \\delta_3)\\sigma_3 D  \\\\\n",
    "$$\n",
    "\n",
    "\n",
    "#### **Model Assumptions**\n",
    "\n",
    "1. **Law of Mass Action:**\n",
    "The SEI3RD model assumes that disease transmission occurs through interactions between individuals. The rate of new infections is proportional to the number of susceptible individuals and the number of infectious individuals, following the law of mass action. This is represented in the equations for the transmission of the disease (the terms involving β0(t), β1(t), β2, and β3), where β represents the transmission rate.\n",
    "\n",
    "2. **Exponential Growth and Decay:**\n",
    "The model uses exponential growth and decay principles to describe the transitions between compartments. For instance, the exposed (E) individuals become infectious (I) at a rate ω, and infectious individuals recover or progress to a more severe stage at a rate δ.\n",
    "\n",
    "3. **Compartmental Modeling:**\n",
    "The SEI3RD model divides the population into compartments based on disease status. These compartments include:\n",
    "\n",
    "- $S$ (Susceptible): Individuals who are at risk of getting infected.\n",
    "- $E$ (Exposed): Individuals who are infected but not yet infectious.\n",
    "- $I_0$, $I_1$, $I_2$, $I_3$ (Infectious): Individuals in different infectious stages or with different levels of severity.\n",
    "- $R$ (Recovered): Individuals who have recovered from the disease and are immune.\n",
    "- $D$ (Deceased): Individuals who have succumbed to the disease.\n",
    "\n",
    "4. **Transmission Rate Variation:**\n",
    "The model allows for time-varying transmission rates (β0(t) and β1(t)), which acknowledge that disease transmission may change over time due to various factors such as interventions, seasonality, or behavioral changes.\n",
    "\n",
    "5. **Fractional Disease Progression:**\n",
    "The δ parameters represent the fraction of individuals who progress to a more severe state (or die) from the current state, while (1 - δ) represents the fraction who recover or remain in the same state.\n",
    "\n",
    "6. **Latent and Incubation Periods:**\n",
    "The E compartment represents individuals who are exposed to the virus but not yet infectious. This accounts for the incubation period during which an infected individual is not yet capable of transmitting the disease.\n",
    "\n",
    "7. **Vital Dynamics:**\n",
    "The model assumes a closed population, which means it doesn't explicitly consider births and deaths unrelated to the disease. However, it does account for disease-induced mortality in the D compartment.\n",
    "\n",
    "8. **Immunity:**\n",
    "The R compartment represents individuals who have recovered from the disease and are assumed to be immune. This reflects the idea that individuals who have recovered from an infection may be protected from reinfection."
   ]
  },
  {
   "cell_type": "markdown",
   "metadata": {},
   "source": [
    "***\n",
    "## **Theoretical Development**\n",
    "\n",
    "- *Develop the model assigned to each one, theoretically, with the necessary tools, taking as many reference as you can.*\n",
    "\n",
    "We need:\n",
    "\n",
    "- *A proof of the number of fixed points.*\n",
    "- *A proof of the stability of fixed points: by liniearization, by Lyapunov theory or any other technique.*\n",
    "- *A proof of the existence or not of periodic orbits.*\n",
    "- *Numerical evidence of the phase portrait associated to your model in different views.*\n",
    "- *Numerical evidence of the solution associated to your model in different views.*\n",
    "- *A concise explanation from a mathematical point of view that concludes the analysis of your model*\n",
    "\n"
   ]
  },
  {
   "cell_type": "markdown",
   "metadata": {},
   "source": [
    "*** \n",
    "\n",
    "## **Numerical Application**\n",
    "\n",
    "- *Develop a numerical application of your model, by any method you wish. In this aspect, you are completely free to seek advice from the references with which you feel most comfortable. Once you have determined the numerical method you want to use, the guide should contain an exhaustive explanation of it.*"
   ]
  },
  {
   "cell_type": "markdown",
   "metadata": {},
   "source": [
    "*** \n",
    "\n",
    "## **Conclusions**\n",
    "\n",
    "Lorem ipsum dolor sit amet, consectetur adipiscing elit. Sed sed tortor faucibus, sagittis leo nec, eleifend ligula. Nam dignissim ut eros eu consequat. Curabitur mattis odio sed lectus venenatis suscipit. Cras ornare mi et libero bibendum, commodo dignissim orci iaculis. Nullam consequat mauris sed nibh varius fermentum. Donec nec ultrices enim, ac iaculis eros. Proin scelerisque eros felis, et fringilla ex rhoncus sit amet. In venenatis odio tristique enim convallis euismod. Aliquam vel eleifend dui.\n"
   ]
  },
  {
   "cell_type": "markdown",
   "metadata": {},
   "source": [
    "*** \n",
    "\n",
    "## **Bibliography**\n",
    "\n",
    "- *The full document must be duly cited. Use the AMS citation style.*\n",
    "\n",
    "Notes:\n",
    "- *Write appropriately all definitions you use*\n",
    "- *Write properly all the theorems you use*\n",
    "- *Fully develop the examples that will appear in the body of the guide*\n",
    "- *Explain in detail the codes that will appear within the guide*"
   ]
  }
 ],
 "metadata": {
  "kernelspec": {
   "display_name": "Python 3",
   "language": "python",
   "name": "python3"
  },
  "language_info": {
   "codemirror_mode": {
    "name": "ipython",
    "version": 3
   },
   "file_extension": ".py",
   "mimetype": "text/x-python",
   "name": "python",
   "nbconvert_exporter": "python",
   "pygments_lexer": "ipython3",
   "version": "3.11.6"
  }
 },
 "nbformat": 4,
 "nbformat_minor": 2
}
