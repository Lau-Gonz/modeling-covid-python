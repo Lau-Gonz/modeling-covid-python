{
 "cells": [
  {
   "cell_type": "markdown",
   "metadata": {},
   "source": [
    "# Modeling Covid in Python\n",
    "\n",
    "***\n",
    "\n",
    "- Dafne Valeria Castellanos Rosas\n",
    "- Laura Valentina Gonzalez Rodriguez"
   ]
  },
  {
   "cell_type": "code",
   "execution_count": null,
   "metadata": {},
   "outputs": [],
   "source": []
  }
 ],
 "metadata": {
  "language_info": {
   "name": "python"
  }
 },
 "nbformat": 4,
 "nbformat_minor": 2
}
