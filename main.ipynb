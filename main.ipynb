{
 "cells": [
  {
   "cell_type": "markdown",
   "metadata": {},
   "source": [
    "# **Modeling Covid in Python**\n",
    "\n",
    "***\n",
    "\n",
    "- Dafne Valeria Castellanos Rosas\n",
    "- Laura Valentina Gonzalez Rodriguez"
   ]
  },
  {
   "cell_type": "markdown",
   "metadata": {},
   "source": [
    "***\n",
    "\n",
    "## **Historical Introduction**\n",
    "\n",
    "- *A historical introduction to the development and appearance of the model.*\n",
    "- *The SEI3RD model is a more complex version of the SEIR model that provides a more detailed understanding of disease spread, especially when different stages of infection and varying transmission rates are important to consider.*"
   ]
  },
  {
   "cell_type": "markdown",
   "metadata": {},
   "source": [
    "***\n",
    "\n",
    "### **Laws to make and understand the model**\n",
    "\n",
    "- *A detailed explanation of the laws around which your model is formulated.*\n",
    "\n",
    "\n",
    "The SEI3RD model, like many epidemiological models, is based on a set of differential equations that describe the dynamics of disease transmission within a population. We can consider for this case some laws and concepts to understand the SEI3RD model:\n",
    "\n",
    "1. **Law of Mass Action**: The SEI3RD model assumes that disease transmission occurs through interactions between individuals. The rate of new infections is proportional to the number of susceptible individuals and the number of infectious individuals, following the law of mass action. This is represented in the equations for the transmission of the disease (the terms involving β0(t), β1(t), β2, and β3), where β represents the transmission rate.\n",
    "\n",
    "2. **Exponential Growth and Decay**: The model uses exponential growth and decay principles to describe the transitions between compartments. For instance, the exposed (E) individuals become infectious (I) at a rate ω, and infectious individuals recover or progress to a more severe stage at a rate δ.\n",
    "\n",
    "3. **Compartmental Modeling**: The SEI3RD model divides the population into compartments based on disease status. These compartments include:\n",
    "\n",
    "- $S$ (Susceptible): Individuals who are at risk of getting infected.\n",
    "- $E$ (Exposed): Individuals who are infected but not yet infectious.\n",
    "- $I_0$, $I_1$, $I_2$, $I_3$ (Infectious): Individuals in different infectious stages or with different levels of severity.\n",
    "- $R$ (Recovered): Individuals who have recovered from the disease and are immune.\n",
    "- $D$ (Deceased): Individuals who have succumbed to the disease.\n",
    "\n",
    "4. **Transmission Rate Variation**: The model allows for time-varying transmission rates (β0(t) and β1(t)), which acknowledge that disease transmission may change over time due to various factors such as interventions, seasonality, or behavioral changes.\n",
    "\n",
    "5. **Fractional Disease Progression**: The δ parameters represent the fraction of individuals who progress to a more severe state (or die) from the current state, while (1 - δ) represents the fraction who recover or remain in the same state.\n",
    "\n",
    "6. **Latent Period and Incubation Period**: The E compartment represents individuals who are exposed to the virus but not yet infectious. This accounts for the incubation period during which an infected individual is not yet capable of transmitting the disease.\n",
    "\n",
    "7. **Vital Dynamics**: The model assumes a closed population, which means it doesn't explicitly consider births and deaths unrelated to the disease. However, it does account for disease-induced mortality in the D compartment.\n",
    "\n",
    "8. **Immunity**: The R compartment represents individuals who have recovered from the disease and are assumed to be immune. This reflects the idea that individuals who have recovered from an infection may be protected from reinfection for a certain period.\n"
   ]
  },
  {
   "cell_type": "markdown",
   "metadata": {},
   "source": [
    "***\n",
    "\n",
    "## **The Model**\n",
    "\n",
    "$$\n",
    "\\frac{dS}{dt} = -S (\\beta_0(t)I_0 + \\beta_1(t)I_1 + \\beta_2 I_2 + \\beta_3 I_3) \\\\\n",
    "\\frac{dE}{dt} = S (\\beta_0(t)I_0 + \\beta_1(t)I_1 + \\beta_2 I_2 + \\beta_3 I_3) - \\omega E  \\\\\n",
    "\\frac{dI_0}{dt} = \\omega E - \\delta_0 \\gamma_0 I_0 - (1 - \\delta_0)\\sigma_0 I_0  \\\\\n",
    "\\frac{dI_1}{dt} = (1 - \\delta_0)\\sigma_0 I_0 - \\delta_1 \\gamma_1 I_1 - (1 - \\delta_1)\\sigma_1 I_1  \\\\\n",
    "\\frac{dI_2}{dt} = (1 - \\delta_1)\\sigma_1 I_1 - \\delta_2 \\gamma_2 I_2 - (1 - \\delta_2)\\sigma_2 I_2  \\\\\n",
    "\\frac{dI_3}{dt} = (1 - \\delta_2)\\sigma_2 I_2 - \\delta_3 \\gamma_3 I_3 - (1 - \\delta_3)\\sigma_3 I_3  \\\\\n",
    "\\frac{dR}{dt} = \\delta_0 \\gamma_0 I_0 + \\delta_1 \\gamma_1 I_1 + \\delta_2 \\gamma_2 I_2 + \\delta_3 \\gamma_3 I_3  \\\\\n",
    "\\frac{dD}{dt} = (1 - \\delta_3)\\sigma_3 D  \\\\\n",
    "$$\n"
   ]
  },
  {
   "cell_type": "markdown",
   "metadata": {},
   "source": [
    "***\n",
    "## **Theoretical Development**\n",
    "\n",
    "- *Develop the model assigned to each one, theoretically, with the necessary tools, taking as many reference as you can.*\n",
    "\n",
    "- *A proof of the number of fixed points.*\n",
    "- *A proof of the stability of fixed points: by liniearization, by Lyapunov theory or any other technique.*\n",
    "- *A proof of the existence or not of periodic orbits.*\n",
    "- *Numerical evidence of the phase portrait associated to your model in different views.*\n",
    "- *Numerical evidence of the solution associated to your model in different views.*\n",
    "- *A concise explanation from a mathematical point of view that concludes the analysis of your model*\n",
    "\n"
   ]
  },
  {
   "cell_type": "markdown",
   "metadata": {},
   "source": [
    "*** \n",
    "\n",
    "## **Numerical Application**\n",
    "\n",
    "- *Develop a numerical application of your model, by any method you wish. In this aspect, you are completely free to seek advice from the references with which you feel most comfortable. Once you have determined the numerical method you want to use, the guide should contain an exhaustive explanation of it.*"
   ]
  },
  {
   "cell_type": "markdown",
   "metadata": {},
   "source": [
    "*** \n",
    "\n",
    "## **Conclusions**\n",
    "\n",
    "Lorem ipsum dolor sit amet, consectetur adipiscing elit. Sed sed tortor faucibus, sagittis leo nec, eleifend ligula. Nam dignissim ut eros eu consequat. Curabitur mattis odio sed lectus venenatis suscipit. Cras ornare mi et libero bibendum, commodo dignissim orci iaculis. Nullam consequat mauris sed nibh varius fermentum. Donec nec ultrices enim, ac iaculis eros. Proin scelerisque eros felis, et fringilla ex rhoncus sit amet. In venenatis odio tristique enim convallis euismod. Aliquam vel eleifend dui.\n"
   ]
  },
  {
   "cell_type": "markdown",
   "metadata": {},
   "source": [
    "*** \n",
    "\n",
    "## **Bibliography**\n",
    "\n",
    "- *The full document must be duly cited. Use the AMS citation style.*\n",
    "\n",
    "Notes:\n",
    "- *Write appropriately all definitions you use*\n",
    "- *Write properly all the theorems you use*\n",
    "- *Fully develop the examples that will appear in the body of the guide*\n",
    "- *Explain in detail the codes that will appear within the guide*"
   ]
  }
 ],
 "metadata": {
  "language_info": {
   "name": "python"
  }
 },
 "nbformat": 4,
 "nbformat_minor": 2
}
