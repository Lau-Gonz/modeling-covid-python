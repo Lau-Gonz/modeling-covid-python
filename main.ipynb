{
 "cells": [
  {
   "cell_type": "markdown",
   "metadata": {},
   "source": [
    "# **Modeling Covid in Python**\n",
    "\n",
    "***\n",
    "\n",
    "- Dafne Valeria Castellanos Rosas\n",
    "- Laura Valentina Gonzalez Rodriguez"
   ]
  },
  {
   "cell_type": "markdown",
   "metadata": {},
   "source": [
    "***\n",
    "\n",
    "## **Historical Introduction**\n",
    "\n",
    "- A historical introduction to the development and appearance of the model.\n"
   ]
  },
  {
   "cell_type": "markdown",
   "metadata": {},
   "source": [
    "***\n",
    "\n",
    "### **Laws to make and understand the model**\n",
    "\n",
    "- A detailed explanation of the laws around which your model is formulated.\n"
   ]
  },
  {
   "cell_type": "markdown",
   "metadata": {},
   "source": [
    "***\n",
    "\n",
    "## **The Model**\n",
    "\n",
    "Lorem ipsum dolor sit amet, consectetur adipiscing elit. Vestibulum interdum eros at ante imperdiet mollis. Sed quis sem placerat, sodales urna sed, interdum lorem. Donec tortor nibh, tincidunt nec nunc sed, suscipit luctus enim. Quisque eget purus et velit vehicula gravida et in mauris. Nulla nec ante porttitor, varius mauris vel, posuere leo. Morbi nec gravida mi, quis convallis justo. Proin sollicitudin pharetra odio in euismod. Aliquam at rhoncus enim, in vestibulum purus. Proin aliquet nibh at dui posuere sollicitudin."
   ]
  },
  {
   "cell_type": "markdown",
   "metadata": {},
   "source": [
    "***\n",
    "## **Theoretical Development**\n",
    "\n",
    "- Develop the model assigned to each one, theoretically, with the necessary tools, taking as many reference as you can.\n",
    "\n",
    "- A proof of the number of fixed points.\n",
    "- A proof of the stability of fixed points: by liniearization, by Lyapunov theory or any other technique.\n",
    "- A proof of the existence or not of periodic orbits.\n",
    "- Numerical evidence of the phase portrait associated to your model in different views.\n",
    "- Numerical evidence of the solution associated to your model in different views.\n",
    "- A concise explanation from a mathematical point of view that concludes the analysis of your model\n",
    "\n"
   ]
  },
  {
   "cell_type": "markdown",
   "metadata": {},
   "source": [
    "*** \n",
    "\n",
    "## **Numerical Application**\n",
    "\n",
    "- Develop a numerical application of your model, by any method you wish. In this aspect, you are completely free to seek advice from the references with which you feel most comfortable. Once you have determined the numerical method you want to use, the guide should contain an exhaustive explanation of it."
   ]
  },
  {
   "cell_type": "markdown",
   "metadata": {},
   "source": [
    "*** \n",
    "\n",
    "## **Conclusions**\n",
    "\n",
    "Lorem ipsum dolor sit amet, consectetur adipiscing elit. Sed sed tortor faucibus, sagittis leo nec, eleifend ligula. Nam dignissim ut eros eu consequat. Curabitur mattis odio sed lectus venenatis suscipit. Cras ornare mi et libero bibendum, commodo dignissim orci iaculis. Nullam consequat mauris sed nibh varius fermentum. Donec nec ultrices enim, ac iaculis eros. Proin scelerisque eros felis, et fringilla ex rhoncus sit amet. In venenatis odio tristique enim convallis euismod. Aliquam vel eleifend dui.\n"
   ]
  },
  {
   "cell_type": "markdown",
   "metadata": {},
   "source": [
    "*** \n",
    "\n",
    "## **Bibliography**\n",
    "\n",
    "- The full document must be duly cited. Use the AMS citation style.\n",
    "\n",
    "Notes:\n",
    "- Write appropriately all definitions you use\n",
    "- Write properly all the theorems you use\n",
    "- Fully develop the examples that will appear in the body of the guide\n",
    "- Explain in detail the codes that will appear within the guide"
   ]
  }
 ],
 "metadata": {
  "language_info": {
   "name": "python"
  }
 },
 "nbformat": 4,
 "nbformat_minor": 2
}
